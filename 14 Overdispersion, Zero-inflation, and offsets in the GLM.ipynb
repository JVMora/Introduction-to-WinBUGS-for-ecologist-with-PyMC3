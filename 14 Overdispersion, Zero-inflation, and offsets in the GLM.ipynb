{
 "cells": [
  {
   "cell_type": "code",
   "execution_count": 1,
   "id": "93cb91e9-a035-40aa-a1fd-43f2b2a0c349",
   "metadata": {},
   "outputs": [
    {
     "name": "stderr",
     "output_type": "stream",
     "text": [
      "WARNING (theano.tensor.blas): Using NumPy C-API based implementation for BLAS functions.\n"
     ]
    }
   ],
   "source": [
    "import numpy as np\n",
    "import pandas as pd\n",
    "import pymc3 as pm\n",
    "import matplotlib.pyplot as plt\n",
    "import arviz as az\n",
    "import warnings\n",
    "warnings.filterwarnings(\"ignore\")\n",
    "import scipy.stats as st\n",
    "from toolz import partition"
   ]
  },
  {
   "cell_type": "markdown",
   "id": "4ce30c5f-1930-4abc-9eb1-b6d4a8fd9560",
   "metadata": {},
   "source": [
    "### 14.1 Overdispersion"
   ]
  },
  {
   "cell_type": "markdown",
   "id": "d1c6819d-68ae-44de-b5fb-cec6a9ba0d92",
   "metadata": {},
   "source": [
    "#### 14.1.2. Data generation"
   ]
  },
  {
   "cell_type": "code",
   "execution_count": 10,
   "id": "c5b1aa17-a4e0-47e5-88b7-88d958e1a372",
   "metadata": {},
   "outputs": [
    {
     "data": {
      "image/png": "[encoded data removed]",
      "text/plain": [
       "<Figure size 576x432 with 2 Axes>"
      ]
     },
     "metadata": {
      "needs_background": "light"
     },
     "output_type": "display_data"
    }
   ],
   "source": [
    "np.random.seed(456)\n",
    "n_site = 10\n",
    "x = pd.factorize(np.repeat((\"grassland\", \"arable\"), n_site))[0]\n",
    "eps = st.norm.rvs(0, 0.5, size = 2 * n_site)\n",
    "λ_OD = np.exp(0.69 + 0.92 * x) + eps\n",
    "λ_Poisson = np.exp(0.69 + 0.92 * x)\n",
    "\n",
    "C_OD = st.poisson.rvs(λ_OD, size = 2 * n_site)\n",
    "C_Poisson = st.poisson.rvs(λ_Poisson, size = 2 * n_site)\n",
    "\n",
    "fig, ax = plt.subplots(nrows=1, ncols=2, figsize=(8, 6), gridspec_kw={'wspace': 0.35})\n",
    "ax[0].boxplot(list(partition(10, C_OD)), \n",
    "                    widths = 0.7, \n",
    "                    boxprops = dict(facecolor = 'gray', alpha = 0.5),\n",
    "                    medianprops = dict(linestyle='-', linewidth=2, color='black'),\n",
    "                    patch_artist=True, \n",
    "                    labels = ['grassland', 'arable'])\n",
    "ax[0].set_title('With OD', fontsize = 12, pad = 10)\n",
    "ax[0].set_xlabel('Land-use', fontsize = 12, labelpad = 10)\n",
    "ax[0].set_ylabel('Hare count', fontsize = 12, labelpad = 10)\n",
    "\n",
    "ax[1].boxplot(list(partition(10, C_Poisson)), \n",
    "                    widths = 0.7, \n",
    "                    boxprops = dict(facecolor = 'gray', alpha = 0.5),\n",
    "                    medianprops = dict(linestyle='-', linewidth=2, color='black'),\n",
    "                    patch_artist=True, \n",
    "                    labels = ['grassland', 'arable'])\n",
    "ax[1].set_title('Without OD', fontsize = 12, pad = 10)\n",
    "ax[1].set_xlabel('Land-use', fontsize = 12, labelpad = 10)\n",
    "ax[1].set_ylabel('Hare count', fontsize = 12, labelpad = 10);"
   ]
  },
  {
   "cell_type": "markdown",
   "id": "4024698d-a5a2-41c7-9169-3253a88ecf0b",
   "metadata": {},
   "source": [
    "#### 14.1.3 Analysis using PyMC3"
   ]
  },
  {
   "cell_type": "code",
   "execution_count": 12,
   "id": "5e93355c-c659-4cb6-840a-61b7352b945b",
   "metadata": {},
   "outputs": [
    {
     "name": "stderr",
     "output_type": "stream",
     "text": [
      "Auto-assigning NUTS sampler...\n",
      "Initializing NUTS using jitter+adapt_diag...\n",
      "Multiprocess sampling (2 chains in 2 jobs)\n",
      "NUTS: [eps, sigma, beta, alpha]\n"
     ]
    },
    {
     "data": {
      "text/html": [
       "\n",
       "    <div>\n",
       "        <style>\n",
       "            /* Turns off some styling */\n",
       "            progress {\n",
       "                /* gets rid of default border in Firefox and Opera. */\n",
       "                border: none;\n",
       "                /* Needs to be in here for Safari polyfill so background images work as expected. */\n",
       "                background-size: auto;\n",
       "            }\n",
       "            .progress-bar-interrupted, .progress-bar-interrupted::-webkit-progress-bar {\n",
       "                background: #F44336;\n",
       "            }\n",
       "        </style>\n",
       "      <progress value='14000' class='' max='14000' style='width:300px; height:20px; vertical-align: middle;'></progress>\n",
       "      100.00% [14000/14000 00:33<00:00 Sampling 2 chains, 0 divergences]\n",
       "    </div>\n",
       "    "
      ],
      "text/plain": [
       "<IPython.core.display.HTML object>"
      ]
     },
     "metadata": {},
     "output_type": "display_data"
    },
    {
     "name": "stderr",
     "output_type": "stream",
     "text": [
      "Sampling 2 chains for 3_000 tune and 4_000 draw iterations (6_000 + 8_000 draws total) took 48 seconds.\n",
      "The number of effective samples is smaller than 10% for some parameters.\n"
     ]
    }
   ],
   "source": [
    "with pm.Model() as model_14_1_4:\n",
    "    alpha = pm.Normal('alpha', 0, tau = 0.001)\n",
    "    beta = pm.Normal('beta', 0, tau = 0.001)\n",
    "    sigma = pm.Uniform('sigma', 0, 10)\n",
    "    \n",
    "    eps = pm.Normal('eps', 0, sigma = sigma, shape = len(x))\n",
    "    λ = pm.math.exp(alpha + beta * x + eps)\n",
    "    C_OD_pred = pm.Poisson('C_OD_pred', λ, observed = C_OD)\n",
    "    trace_14_1_4 = pm.sample(4000, tune = 3000, target_accept = 0.95, return_inferencedata = True)"
   ]
  },
  {
   "cell_type": "code",
   "execution_count": 13,
   "id": "5a02c617-aa1d-44b5-8be5-03c45c51e6cd",
   "metadata": {},
   "outputs": [
    {
     "data": {
      "text/html": [
       "<div>\n",
       "<style scoped>\n",
       "    .dataframe tbody tr th:only-of-type {\n",
       "        vertical-align: middle;\n",
       "    }\n",
       "\n",
       "    .dataframe tbody tr th {\n",
       "        vertical-align: top;\n",
       "    }\n",
       "\n",
       "    .dataframe thead th {\n",
       "        text-align: right;\n",
       "    }\n",
       "</style>\n",
       "<table border=\"1\" class=\"dataframe\">\n",
       "  <thead>\n",
       "    <tr style=\"text-align: right;\">\n",
       "      <th></th>\n",
       "      <th>mean</th>\n",
       "      <th>sd</th>\n",
       "      <th>hdi_3%</th>\n",
       "      <th>hdi_97%</th>\n",
       "      <th>mcse_mean</th>\n",
       "      <th>mcse_sd</th>\n",
       "      <th>ess_bulk</th>\n",
       "      <th>ess_tail</th>\n",
       "      <th>r_hat</th>\n",
       "    </tr>\n",
       "  </thead>\n",
       "  <tbody>\n",
       "    <tr>\n",
       "      <th>alpha</th>\n",
       "      <td>0.341</td>\n",
       "      <td>0.314</td>\n",
       "      <td>-0.233</td>\n",
       "      <td>0.950</td>\n",
       "      <td>0.006</td>\n",
       "      <td>0.004</td>\n",
       "      <td>3142.0</td>\n",
       "      <td>3102.0</td>\n",
       "      <td>1.0</td>\n",
       "    </tr>\n",
       "    <tr>\n",
       "      <th>beta</th>\n",
       "      <td>1.073</td>\n",
       "      <td>0.376</td>\n",
       "      <td>0.348</td>\n",
       "      <td>1.766</td>\n",
       "      <td>0.006</td>\n",
       "      <td>0.005</td>\n",
       "      <td>3622.0</td>\n",
       "      <td>3535.0</td>\n",
       "      <td>1.0</td>\n",
       "    </tr>\n",
       "    <tr>\n",
       "      <th>sigma</th>\n",
       "      <td>0.439</td>\n",
       "      <td>0.226</td>\n",
       "      <td>0.058</td>\n",
       "      <td>0.830</td>\n",
       "      <td>0.008</td>\n",
       "      <td>0.006</td>\n",
       "      <td>580.0</td>\n",
       "      <td>447.0</td>\n",
       "      <td>1.0</td>\n",
       "    </tr>\n",
       "  </tbody>\n",
       "</table>\n",
       "</div>"
      ],
      "text/plain": [
       "        mean     sd  hdi_3%  hdi_97%  mcse_mean  mcse_sd  ess_bulk  ess_tail  \\\n",
       "alpha  0.341  0.314  -0.233    0.950      0.006    0.004    3142.0    3102.0   \n",
       "beta   1.073  0.376   0.348    1.766      0.006    0.005    3622.0    3535.0   \n",
       "sigma  0.439  0.226   0.058    0.830      0.008    0.006     580.0     447.0   \n",
       "\n",
       "       r_hat  \n",
       "alpha    1.0  \n",
       "beta     1.0  \n",
       "sigma    1.0  "
      ]
     },
     "execution_count": 13,
     "metadata": {},
     "output_type": "execute_result"
    }
   ],
   "source": [
    "az.summary(trace_14_1_4, var_names = ['~eps'])"
   ]
  },
  {
   "cell_type": "markdown",
   "id": "48106e7f-851b-4413-9c3a-78661edba64a",
   "metadata": {},
   "source": [
    "### 14.2. Zero-inflation"
   ]
  },
  {
   "cell_type": "markdown",
   "id": "74960a6a-62ac-451f-9fd6-31a7d21dd5ac",
   "metadata": {},
   "source": [
    "#### 14.2.2 Data generation"
   ]
  },
  {
   "cell_type": "code",
   "execution_count": 14,
   "id": "766e768f-4e4c-4b41-aa1f-b5116c962046",
   "metadata": {},
   "outputs": [],
   "source": [
    "np.random.seed(12345)\n",
    "psi = 0.8\n",
    "n_site = 20\n",
    "x = pd.factorize(np.repeat((\"grassland\", \"arable\"), n_site))[0]\n",
    "w = st.bernoulli.rvs(p = psi, size = 2 * n_site)\n",
    "λ = np.exp(0.69 + 0.92 * x)\n",
    "C = st.poisson.rvs(w * λ, size = 2 * n_site)"
   ]
  },
  {
   "cell_type": "code",
   "execution_count": 17,
   "id": "d47ddb96-6833-4391-9b88-8113b0bd43cd",
   "metadata": {},
   "outputs": [],
   "source": [
    "#plt.figure(figsize = (8, 6))\n",
    "#plt.hist(C, color= 'gray', edgecolor='black', alpha = 0.5)"
   ]
  },
  {
   "cell_type": "markdown",
   "id": "89dcf857-a1a9-477d-89e8-c9a8ea4ffee9",
   "metadata": {},
   "source": [
    "#### 14.2.4 Analysis using PyMC3"
   ]
  },
  {
   "cell_type": "code",
   "execution_count": 16,
   "id": "8182a860-4c94-4809-ab3d-1490eee2ccb7",
   "metadata": {},
   "outputs": [
    {
     "name": "stderr",
     "output_type": "stream",
     "text": [
      "Multiprocess sampling (2 chains in 2 jobs)\n",
      "CompoundStep\n",
      ">NUTS: [psi, beta, alpha]\n",
      ">BinaryGibbsMetropolis: [w]\n"
     ]
    },
    {
     "data": {
      "text/html": [
       "\n",
       "    <div>\n",
       "        <style>\n",
       "            /* Turns off some styling */\n",
       "            progress {\n",
       "                /* gets rid of default border in Firefox and Opera. */\n",
       "                border: none;\n",
       "                /* Needs to be in here for Safari polyfill so background images work as expected. */\n",
       "                background-size: auto;\n",
       "            }\n",
       "            .progress-bar-interrupted, .progress-bar-interrupted::-webkit-progress-bar {\n",
       "                background: #F44336;\n",
       "            }\n",
       "        </style>\n",
       "      <progress value='12000' class='' max='12000' style='width:300px; height:20px; vertical-align: middle;'></progress>\n",
       "      100.00% [12000/12000 00:31<00:00 Sampling 2 chains, 0 divergences]\n",
       "    </div>\n",
       "    "
      ],
      "text/plain": [
       "<IPython.core.display.HTML object>"
      ]
     },
     "metadata": {},
     "output_type": "display_data"
    },
    {
     "name": "stderr",
     "output_type": "stream",
     "text": [
      "Sampling 2 chains for 3_000 tune and 3_000 draw iterations (6_000 + 6_000 draws total) took 47 seconds.\n"
     ]
    }
   ],
   "source": [
    "with pm.Model() as ZIP:\n",
    "    alpha = pm.Normal('alpha', 0, tau = 0.001)\n",
    "    beta = pm.Normal('beta', 0, tau = 0.001)\n",
    "    psi = pm.Uniform('psi', 0, 1)\n",
    "    R_lpsi = pm.Deterministic('R_lpsi', pm.math.logit(1 - psi))\n",
    "    λ = pm.math.exp(alpha + beta * x)\n",
    "    w = pm.Bernoulli('w', psi, initval = w, shape = len(x))\n",
    "\n",
    "    C_pred = pm.Poisson('C_like', w * λ, observed = C)\n",
    "    trace_ZIP = pm.sample(3000, tune = 3000, return_inferencedata = True)"
   ]
  },
  {
   "cell_type": "code",
   "execution_count": 18,
   "id": "76809327-df3e-4d71-a572-d0bf27451bb7",
   "metadata": {},
   "outputs": [
    {
     "data": {
      "text/html": [
       "<div>\n",
       "<style scoped>\n",
       "    .dataframe tbody tr th:only-of-type {\n",
       "        vertical-align: middle;\n",
       "    }\n",
       "\n",
       "    .dataframe tbody tr th {\n",
       "        vertical-align: top;\n",
       "    }\n",
       "\n",
       "    .dataframe thead th {\n",
       "        text-align: right;\n",
       "    }\n",
       "</style>\n",
       "<table border=\"1\" class=\"dataframe\">\n",
       "  <thead>\n",
       "    <tr style=\"text-align: right;\">\n",
       "      <th></th>\n",
       "      <th>mean</th>\n",
       "      <th>sd</th>\n",
       "      <th>hdi_3%</th>\n",
       "      <th>hdi_97%</th>\n",
       "      <th>mcse_mean</th>\n",
       "      <th>mcse_sd</th>\n",
       "      <th>ess_bulk</th>\n",
       "      <th>ess_tail</th>\n",
       "      <th>r_hat</th>\n",
       "    </tr>\n",
       "  </thead>\n",
       "  <tbody>\n",
       "    <tr>\n",
       "      <th>alpha</th>\n",
       "      <td>0.814</td>\n",
       "      <td>0.196</td>\n",
       "      <td>0.453</td>\n",
       "      <td>1.179</td>\n",
       "      <td>0.005</td>\n",
       "      <td>0.003</td>\n",
       "      <td>1887.0</td>\n",
       "      <td>2796.0</td>\n",
       "      <td>1.0</td>\n",
       "    </tr>\n",
       "    <tr>\n",
       "      <th>beta</th>\n",
       "      <td>0.819</td>\n",
       "      <td>0.227</td>\n",
       "      <td>0.417</td>\n",
       "      <td>1.263</td>\n",
       "      <td>0.005</td>\n",
       "      <td>0.004</td>\n",
       "      <td>1971.0</td>\n",
       "      <td>2554.0</td>\n",
       "      <td>1.0</td>\n",
       "    </tr>\n",
       "    <tr>\n",
       "      <th>psi</th>\n",
       "      <td>0.761</td>\n",
       "      <td>0.073</td>\n",
       "      <td>0.619</td>\n",
       "      <td>0.892</td>\n",
       "      <td>0.002</td>\n",
       "      <td>0.001</td>\n",
       "      <td>2211.0</td>\n",
       "      <td>2452.0</td>\n",
       "      <td>1.0</td>\n",
       "    </tr>\n",
       "    <tr>\n",
       "      <th>R_lpsi</th>\n",
       "      <td>-1.206</td>\n",
       "      <td>0.428</td>\n",
       "      <td>-2.005</td>\n",
       "      <td>-0.429</td>\n",
       "      <td>0.009</td>\n",
       "      <td>0.007</td>\n",
       "      <td>2211.0</td>\n",
       "      <td>2452.0</td>\n",
       "      <td>1.0</td>\n",
       "    </tr>\n",
       "  </tbody>\n",
       "</table>\n",
       "</div>"
      ],
      "text/plain": [
       "         mean     sd  hdi_3%  hdi_97%  mcse_mean  mcse_sd  ess_bulk  ess_tail  \\\n",
       "alpha   0.814  0.196   0.453    1.179      0.005    0.003    1887.0    2796.0   \n",
       "beta    0.819  0.227   0.417    1.263      0.005    0.004    1971.0    2554.0   \n",
       "psi     0.761  0.073   0.619    0.892      0.002    0.001    2211.0    2452.0   \n",
       "R_lpsi -1.206  0.428  -2.005   -0.429      0.009    0.007    2211.0    2452.0   \n",
       "\n",
       "        r_hat  \n",
       "alpha     1.0  \n",
       "beta      1.0  \n",
       "psi       1.0  \n",
       "R_lpsi    1.0  "
      ]
     },
     "execution_count": 18,
     "metadata": {},
     "output_type": "execute_result"
    }
   ],
   "source": [
    "az.summary(trace_ZIP, var_names = ['alpha', 'beta', 'psi', 'R_lpsi'])"
   ]
  },
  {
   "cell_type": "code",
   "execution_count": 19,
   "id": "b75f342e-eabe-4265-a1c3-1fd40ae65913",
   "metadata": {},
   "outputs": [
    {
     "name": "stderr",
     "output_type": "stream",
     "text": [
      "Auto-assigning NUTS sampler...\n",
      "Initializing NUTS using jitter+adapt_diag...\n",
      "Multiprocess sampling (2 chains in 2 jobs)\n",
      "NUTS: [psi, beta, alpha]\n"
     ]
    },
    {
     "data": {
      "text/html": [
       "\n",
       "    <div>\n",
       "        <style>\n",
       "            /* Turns off some styling */\n",
       "            progress {\n",
       "                /* gets rid of default border in Firefox and Opera. */\n",
       "                border: none;\n",
       "                /* Needs to be in here for Safari polyfill so background images work as expected. */\n",
       "                background-size: auto;\n",
       "            }\n",
       "            .progress-bar-interrupted, .progress-bar-interrupted::-webkit-progress-bar {\n",
       "                background: #F44336;\n",
       "            }\n",
       "        </style>\n",
       "      <progress value='6000' class='' max='6000' style='width:300px; height:20px; vertical-align: middle;'></progress>\n",
       "      100.00% [6000/6000 00:17<00:00 Sampling 2 chains, 0 divergences]\n",
       "    </div>\n",
       "    "
      ],
      "text/plain": [
       "<IPython.core.display.HTML object>"
      ]
     },
     "metadata": {},
     "output_type": "display_data"
    },
    {
     "name": "stderr",
     "output_type": "stream",
     "text": [
      "Sampling 2 chains for 1_000 tune and 2_000 draw iterations (2_000 + 4_000 draws total) took 33 seconds.\n"
     ]
    }
   ],
   "source": [
    "with pm.Model() as ZIP1:\n",
    "    alpha = pm.Normal('alpha', 0, tau = 0.001)\n",
    "    beta = pm.Normal('beta', 0, tau = 0.001)\n",
    "    psi = pm.Beta('psi', 1, 1)\n",
    "    R_lpsi = pm.Deterministic('R_lpsi', pm.math.logit(1 - psi))\n",
    "    λ = pm.math.exp(alpha + beta * x)\n",
    "    \n",
    "    C_pred = pm.ZeroInflatedPoisson('C_like', psi, λ, observed = C)\n",
    "    trace_ZIP1 = pm.sample(2000, target_accept = 0.99, return_inferencedata = True)"
   ]
  },
  {
   "cell_type": "code",
   "execution_count": 21,
   "id": "9129526c-6671-471a-9dec-e23cad7e1492",
   "metadata": {},
   "outputs": [
    {
     "data": {
      "text/html": [
       "<div>\n",
       "<style scoped>\n",
       "    .dataframe tbody tr th:only-of-type {\n",
       "        vertical-align: middle;\n",
       "    }\n",
       "\n",
       "    .dataframe tbody tr th {\n",
       "        vertical-align: top;\n",
       "    }\n",
       "\n",
       "    .dataframe thead th {\n",
       "        text-align: right;\n",
       "    }\n",
       "</style>\n",
       "<table border=\"1\" class=\"dataframe\">\n",
       "  <thead>\n",
       "    <tr style=\"text-align: right;\">\n",
       "      <th></th>\n",
       "      <th>mean</th>\n",
       "      <th>sd</th>\n",
       "      <th>hdi_3%</th>\n",
       "      <th>hdi_97%</th>\n",
       "      <th>mcse_mean</th>\n",
       "      <th>mcse_sd</th>\n",
       "      <th>ess_bulk</th>\n",
       "      <th>ess_tail</th>\n",
       "      <th>r_hat</th>\n",
       "    </tr>\n",
       "  </thead>\n",
       "  <tbody>\n",
       "    <tr>\n",
       "      <th>alpha</th>\n",
       "      <td>0.821</td>\n",
       "      <td>0.195</td>\n",
       "      <td>0.452</td>\n",
       "      <td>1.184</td>\n",
       "      <td>0.006</td>\n",
       "      <td>0.004</td>\n",
       "      <td>1160.0</td>\n",
       "      <td>1602.0</td>\n",
       "      <td>1.0</td>\n",
       "    </tr>\n",
       "    <tr>\n",
       "      <th>beta</th>\n",
       "      <td>0.812</td>\n",
       "      <td>0.226</td>\n",
       "      <td>0.402</td>\n",
       "      <td>1.254</td>\n",
       "      <td>0.007</td>\n",
       "      <td>0.005</td>\n",
       "      <td>1194.0</td>\n",
       "      <td>1742.0</td>\n",
       "      <td>1.0</td>\n",
       "    </tr>\n",
       "    <tr>\n",
       "      <th>psi</th>\n",
       "      <td>0.760</td>\n",
       "      <td>0.073</td>\n",
       "      <td>0.620</td>\n",
       "      <td>0.890</td>\n",
       "      <td>0.002</td>\n",
       "      <td>0.001</td>\n",
       "      <td>1742.0</td>\n",
       "      <td>1746.0</td>\n",
       "      <td>1.0</td>\n",
       "    </tr>\n",
       "    <tr>\n",
       "      <th>R_lpsi</th>\n",
       "      <td>-1.196</td>\n",
       "      <td>0.423</td>\n",
       "      <td>-1.943</td>\n",
       "      <td>-0.376</td>\n",
       "      <td>0.010</td>\n",
       "      <td>0.008</td>\n",
       "      <td>1742.0</td>\n",
       "      <td>1746.0</td>\n",
       "      <td>1.0</td>\n",
       "    </tr>\n",
       "  </tbody>\n",
       "</table>\n",
       "</div>"
      ],
      "text/plain": [
       "         mean     sd  hdi_3%  hdi_97%  mcse_mean  mcse_sd  ess_bulk  ess_tail  \\\n",
       "alpha   0.821  0.195   0.452    1.184      0.006    0.004    1160.0    1602.0   \n",
       "beta    0.812  0.226   0.402    1.254      0.007    0.005    1194.0    1742.0   \n",
       "psi     0.760  0.073   0.620    0.890      0.002    0.001    1742.0    1746.0   \n",
       "R_lpsi -1.196  0.423  -1.943   -0.376      0.010    0.008    1742.0    1746.0   \n",
       "\n",
       "        r_hat  \n",
       "alpha     1.0  \n",
       "beta      1.0  \n",
       "psi       1.0  \n",
       "R_lpsi    1.0  "
      ]
     },
     "execution_count": 21,
     "metadata": {},
     "output_type": "execute_result"
    }
   ],
   "source": [
    "az.summary(trace_ZIP1, var_names = ['alpha', 'beta', 'psi', 'R_lpsi'])"
   ]
  },
  {
   "cell_type": "markdown",
   "id": "fd583047-0488-438f-9e96-11ecfd290855",
   "metadata": {},
   "source": [
    "### 14.3 Offsets"
   ]
  },
  {
   "cell_type": "markdown",
   "id": "48699adf-e8d2-4306-ab5e-382f9158828c",
   "metadata": {},
   "source": [
    "#### 14.3.2 Data Generation"
   ]
  },
  {
   "cell_type": "code",
   "execution_count": 22,
   "id": "5d41eab5-8d62-40aa-8751-1076accfb607",
   "metadata": {},
   "outputs": [],
   "source": [
    "np.random.seed(123456)\n",
    "n_site = 10\n",
    "A = st.uniform.rvs(2, 3, size = 2 * n_site)       # Areas range in size from 2 to 5 km2\n",
    "x = pd.factorize(np.repeat((\"grassland\", \"arable\"), n_site))[0]\n",
    "linear_predictor = np.log(A) + 0.69 + 0.92 * x\n",
    "λ = np.exp(linear_predictor)\n",
    "C = st.poisson.rvs(λ, size = 2 * n_site)"
   ]
  },
  {
   "cell_type": "code",
   "execution_count": 23,
   "id": "6ebe6f89-7edf-4802-bf32-59d485f36f10",
   "metadata": {},
   "outputs": [],
   "source": [
    "#plt.figure(figsize = (8, 6))\n",
    "#plt.hist(C, color= 'gray', edgecolor='black', alpha = 0.5)"
   ]
  },
  {
   "cell_type": "markdown",
   "id": "7c1e6277-b2cd-4e4a-a2d5-49ee00f4dc49",
   "metadata": {},
   "source": [
    "#### 14.3.4 Analysis using PyMC3"
   ]
  },
  {
   "cell_type": "code",
   "execution_count": 24,
   "id": "956ae0a1-4563-4d6e-94f2-cc0f5a076026",
   "metadata": {},
   "outputs": [
    {
     "name": "stderr",
     "output_type": "stream",
     "text": [
      "Auto-assigning NUTS sampler...\n",
      "Initializing NUTS using jitter+adapt_diag...\n",
      "Multiprocess sampling (2 chains in 2 jobs)\n",
      "NUTS: [beta, alpha]\n"
     ]
    },
    {
     "data": {
      "text/html": [
       "\n",
       "    <div>\n",
       "        <style>\n",
       "            /* Turns off some styling */\n",
       "            progress {\n",
       "                /* gets rid of default border in Firefox and Opera. */\n",
       "                border: none;\n",
       "                /* Needs to be in here for Safari polyfill so background images work as expected. */\n",
       "                background-size: auto;\n",
       "            }\n",
       "            .progress-bar-interrupted, .progress-bar-interrupted::-webkit-progress-bar {\n",
       "                background: #F44336;\n",
       "            }\n",
       "        </style>\n",
       "      <progress value='16000' class='' max='16000' style='width:300px; height:20px; vertical-align: middle;'></progress>\n",
       "      100.00% [16000/16000 00:14<00:00 Sampling 2 chains, 0 divergences]\n",
       "    </div>\n",
       "    "
      ],
      "text/plain": [
       "<IPython.core.display.HTML object>"
      ]
     },
     "metadata": {},
     "output_type": "display_data"
    },
    {
     "name": "stderr",
     "output_type": "stream",
     "text": [
      "Sampling 2 chains for 3_000 tune and 5_000 draw iterations (6_000 + 10_000 draws total) took 29 seconds.\n",
      "The number of effective samples is smaller than 25% for some parameters.\n"
     ]
    }
   ],
   "source": [
    "with pm.Model() as Offset:\n",
    "    alpha = pm.Normal('alpha', 0, tau = 0.001)\n",
    "    beta = pm.Normal('beta', 0, tau = 0.001)\n",
    "    λ = pm.Deterministic('λ', pm.math.exp(1 * np.log(A) + alpha + beta * x))\n",
    "    C_pred = pm.Poisson('C_pred', λ, observed = C)\n",
    "    \n",
    "    trace_Offset = pm.sample(5000, tune = 3000, return_inferencedata = True)"
   ]
  },
  {
   "cell_type": "code",
   "execution_count": 25,
   "id": "f722228c-6620-4392-bef5-bdb6a7feabdc",
   "metadata": {},
   "outputs": [
    {
     "data": {
      "text/html": [
       "<div>\n",
       "<style scoped>\n",
       "    .dataframe tbody tr th:only-of-type {\n",
       "        vertical-align: middle;\n",
       "    }\n",
       "\n",
       "    .dataframe tbody tr th {\n",
       "        vertical-align: top;\n",
       "    }\n",
       "\n",
       "    .dataframe thead th {\n",
       "        text-align: right;\n",
       "    }\n",
       "</style>\n",
       "<table border=\"1\" class=\"dataframe\">\n",
       "  <thead>\n",
       "    <tr style=\"text-align: right;\">\n",
       "      <th></th>\n",
       "      <th>mean</th>\n",
       "      <th>sd</th>\n",
       "      <th>hdi_3%</th>\n",
       "      <th>hdi_97%</th>\n",
       "      <th>mcse_mean</th>\n",
       "      <th>mcse_sd</th>\n",
       "      <th>ess_bulk</th>\n",
       "      <th>ess_tail</th>\n",
       "      <th>r_hat</th>\n",
       "    </tr>\n",
       "  </thead>\n",
       "  <tbody>\n",
       "    <tr>\n",
       "      <th>alpha</th>\n",
       "      <td>0.701</td>\n",
       "      <td>0.123</td>\n",
       "      <td>0.45</td>\n",
       "      <td>0.915</td>\n",
       "      <td>0.003</td>\n",
       "      <td>0.002</td>\n",
       "      <td>2078.0</td>\n",
       "      <td>2812.0</td>\n",
       "      <td>1.0</td>\n",
       "    </tr>\n",
       "    <tr>\n",
       "      <th>beta</th>\n",
       "      <td>0.964</td>\n",
       "      <td>0.145</td>\n",
       "      <td>0.70</td>\n",
       "      <td>1.241</td>\n",
       "      <td>0.003</td>\n",
       "      <td>0.002</td>\n",
       "      <td>2031.0</td>\n",
       "      <td>2828.0</td>\n",
       "      <td>1.0</td>\n",
       "    </tr>\n",
       "  </tbody>\n",
       "</table>\n",
       "</div>"
      ],
      "text/plain": [
       "        mean     sd  hdi_3%  hdi_97%  mcse_mean  mcse_sd  ess_bulk  ess_tail  \\\n",
       "alpha  0.701  0.123    0.45    0.915      0.003    0.002    2078.0    2812.0   \n",
       "beta   0.964  0.145    0.70    1.241      0.003    0.002    2031.0    2828.0   \n",
       "\n",
       "       r_hat  \n",
       "alpha    1.0  \n",
       "beta     1.0  "
      ]
     },
     "execution_count": 25,
     "metadata": {},
     "output_type": "execute_result"
    }
   ],
   "source": [
    "az.summary(trace_Offset, var_names = ['alpha', 'beta'])"
   ]
  },
  {
   "cell_type": "markdown",
   "id": "32557bb7-34a0-4ea3-9f90-d9b1adbcc994",
   "metadata": {},
   "source": [
    "**EXERCISES**"
   ]
  },
  {
   "cell_type": "markdown",
   "id": "ed38a45b-0bc6-46da-a5db-f8b4d0cef418",
   "metadata": {},
   "source": [
    "**1.** *Estimating a coefficient for an offset covariate*"
   ]
  },
  {
   "cell_type": "code",
   "execution_count": 26,
   "id": "69f440a4-ecad-4b00-9e38-3bd868ceec6e",
   "metadata": {},
   "outputs": [
    {
     "name": "stderr",
     "output_type": "stream",
     "text": [
      "Auto-assigning NUTS sampler...\n",
      "Initializing NUTS using jitter+adapt_diag...\n",
      "Multiprocess sampling (2 chains in 2 jobs)\n",
      "NUTS: [beta, alpha, omega]\n"
     ]
    },
    {
     "data": {
      "text/html": [
       "\n",
       "    <div>\n",
       "        <style>\n",
       "            /* Turns off some styling */\n",
       "            progress {\n",
       "                /* gets rid of default border in Firefox and Opera. */\n",
       "                border: none;\n",
       "                /* Needs to be in here for Safari polyfill so background images work as expected. */\n",
       "                background-size: auto;\n",
       "            }\n",
       "            .progress-bar-interrupted, .progress-bar-interrupted::-webkit-progress-bar {\n",
       "                background: #F44336;\n",
       "            }\n",
       "        </style>\n",
       "      <progress value='16000' class='' max='16000' style='width:300px; height:20px; vertical-align: middle;'></progress>\n",
       "      100.00% [16000/16000 00:25<00:00 Sampling 2 chains, 0 divergences]\n",
       "    </div>\n",
       "    "
      ],
      "text/plain": [
       "<IPython.core.display.HTML object>"
      ]
     },
     "metadata": {},
     "output_type": "display_data"
    },
    {
     "name": "stderr",
     "output_type": "stream",
     "text": [
      "Sampling 2 chains for 3_000 tune and 5_000 draw iterations (6_000 + 10_000 draws total) took 41 seconds.\n"
     ]
    }
   ],
   "source": [
    "with pm.Model() as Offset1:\n",
    "    omega = pm.Normal('omega', 0, tau = 0.001)\n",
    "    alpha = pm.Normal('alpha', 0, tau = 0.001)\n",
    "    beta = pm.Normal('beta', 0, tau = 0.001)\n",
    "    λ = pm.Deterministic('λ', pm.math.exp(omega * np.log(A) + alpha + beta * x))\n",
    "    C_pred = pm.Poisson('C_pred', λ, observed = C)\n",
    "    \n",
    "    trace_Offset1 = pm.sample(5000, tune = 3000, return_inferencedata = True)"
   ]
  },
  {
   "cell_type": "code",
   "execution_count": 27,
   "id": "f40dbec6-0bff-4370-a0c3-d21bf713216c",
   "metadata": {},
   "outputs": [
    {
     "data": {
      "text/html": [
       "<div>\n",
       "<style scoped>\n",
       "    .dataframe tbody tr th:only-of-type {\n",
       "        vertical-align: middle;\n",
       "    }\n",
       "\n",
       "    .dataframe tbody tr th {\n",
       "        vertical-align: top;\n",
       "    }\n",
       "\n",
       "    .dataframe thead th {\n",
       "        text-align: right;\n",
       "    }\n",
       "</style>\n",
       "<table border=\"1\" class=\"dataframe\">\n",
       "  <thead>\n",
       "    <tr style=\"text-align: right;\">\n",
       "      <th></th>\n",
       "      <th>mean</th>\n",
       "      <th>sd</th>\n",
       "      <th>hdi_3%</th>\n",
       "      <th>hdi_97%</th>\n",
       "      <th>mcse_mean</th>\n",
       "      <th>mcse_sd</th>\n",
       "      <th>ess_bulk</th>\n",
       "      <th>ess_tail</th>\n",
       "      <th>r_hat</th>\n",
       "    </tr>\n",
       "  </thead>\n",
       "  <tbody>\n",
       "    <tr>\n",
       "      <th>omega</th>\n",
       "      <td>1.037</td>\n",
       "      <td>0.275</td>\n",
       "      <td>0.527</td>\n",
       "      <td>1.570</td>\n",
       "      <td>0.005</td>\n",
       "      <td>0.004</td>\n",
       "      <td>2909.0</td>\n",
       "      <td>3011.0</td>\n",
       "      <td>1.0</td>\n",
       "    </tr>\n",
       "    <tr>\n",
       "      <th>alpha</th>\n",
       "      <td>0.643</td>\n",
       "      <td>0.375</td>\n",
       "      <td>-0.025</td>\n",
       "      <td>1.387</td>\n",
       "      <td>0.007</td>\n",
       "      <td>0.005</td>\n",
       "      <td>2803.0</td>\n",
       "      <td>2790.0</td>\n",
       "      <td>1.0</td>\n",
       "    </tr>\n",
       "    <tr>\n",
       "      <th>beta</th>\n",
       "      <td>0.973</td>\n",
       "      <td>0.144</td>\n",
       "      <td>0.703</td>\n",
       "      <td>1.243</td>\n",
       "      <td>0.002</td>\n",
       "      <td>0.001</td>\n",
       "      <td>4835.0</td>\n",
       "      <td>4190.0</td>\n",
       "      <td>1.0</td>\n",
       "    </tr>\n",
       "  </tbody>\n",
       "</table>\n",
       "</div>"
      ],
      "text/plain": [
       "        mean     sd  hdi_3%  hdi_97%  mcse_mean  mcse_sd  ess_bulk  ess_tail  \\\n",
       "omega  1.037  0.275   0.527    1.570      0.005    0.004    2909.0    3011.0   \n",
       "alpha  0.643  0.375  -0.025    1.387      0.007    0.005    2803.0    2790.0   \n",
       "beta   0.973  0.144   0.703    1.243      0.002    0.001    4835.0    4190.0   \n",
       "\n",
       "       r_hat  \n",
       "omega    1.0  \n",
       "alpha    1.0  \n",
       "beta     1.0  "
      ]
     },
     "execution_count": 27,
     "metadata": {},
     "output_type": "execute_result"
    }
   ],
   "source": [
    "az.summary(trace_Offset1, var_names = ['omega', 'alpha', 'beta'])"
   ]
  },
  {
   "cell_type": "code",
   "execution_count": 28,
   "id": "51b2694d-3a28-4b8e-9855-5e04f1c7baa3",
   "metadata": {},
   "outputs": [
    {
     "data": {
      "image/png": "[encoded data removed]",
      "text/plain": [
       "<Figure size 720x432 with 1 Axes>"
      ]
     },
     "metadata": {
      "needs_background": "light"
     },
     "output_type": "display_data"
    }
   ],
   "source": [
    "az.plot_posterior(trace_Offset1, \n",
    "                  kind = 'hist', \n",
    "                  hdi_prob = 0.95, \n",
    "                  ref_val = 1,\n",
    "                  ref_val_color = 'black',\n",
    "                  bins = 50, \n",
    "                  var_names = ['omega'], \n",
    "                  figsize = (10, 6), \n",
    "                  textsize=10,\n",
    "                  color = 'gray');"
   ]
  },
  {
   "cell_type": "code",
   "execution_count": null,
   "id": "1f77ae54-2648-4d1c-b509-f30566801cfd",
   "metadata": {},
   "outputs": [],
   "source": []
  }
 ],
 "metadata": {
  "kernelspec": {
   "display_name": "Python 3 (ipykernel)",
   "language": "python",
   "name": "python3"
  },
  "language_info": {
   "codemirror_mode": {
    "name": "ipython",
    "version": 3
   },
   "file_extension": ".py",
   "mimetype": "text/x-python",
   "name": "python",
   "nbconvert_exporter": "python",
   "pygments_lexer": "ipython3",
   "version": "3.9.1"
  }
 },
 "nbformat": 4,
 "nbformat_minor": 5
}
