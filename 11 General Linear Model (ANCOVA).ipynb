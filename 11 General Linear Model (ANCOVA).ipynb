{
 "cells": [
  {
   "cell_type": "code",
   "execution_count": 1,
   "id": "bbe4105d-b58f-46ac-8815-59661a0463d8",
   "metadata": {},
   "outputs": [
    {
     "name": "stderr",
     "output_type": "stream",
     "text": [
      "WARNING (theano.tensor.blas): Using NumPy C-API based implementation for BLAS functions.\n"
     ]
    }
   ],
   "source": [
    "import numpy as np\n",
    "import pandas as pd\n",
    "import pymc3 as pm\n",
    "import matplotlib.pyplot as plt\n",
    "from matplotlib.lines import Line2D \n",
    "import arviz as az\n",
    "import warnings\n",
    "warnings.filterwarnings(\"ignore\") \n",
    "import scipy.stats as st\n",
    "from patsy import dmatrix, dmatrices"
   ]
  },
  {
   "cell_type": "markdown",
   "id": "d9340816-020f-4120-bdb3-0e8cfd0db498",
   "metadata": {},
   "source": [
    "### 11.2 Data generation"
   ]
  },
  {
   "cell_type": "code",
   "execution_count": 2,
   "id": "9e40570f-3ca7-4173-bd5e-9b580fc5b04a",
   "metadata": {},
   "outputs": [],
   "source": [
    "np.random.seed(1234)\n",
    "n_groups = 3\n",
    "n_sample = 10\n",
    "n = n_groups * n_sample                                               # Total number of data points\n",
    "x = np.repeat(np.arange(1, n_groups+1), n_sample)                     # Indicator for population\n",
    "pop = np.repeat([\"Pyrenees\", \"Massif Central\", \"Jura\"], n_sample)\n",
    "length = st.uniform.rvs(45, 25, size = n)                             # Obs. body length (cm) is rarely less than 45\n",
    "\n",
    "data_ds = pd.DataFrame({'pop': pd.Series(pop, dtype = 'category'), 'length': length})\n",
    "Xmat = dmatrix(\"~ C(pop, Treatment('Pyrenees')) * length\", data_ds, return_type = 'dataframe')\n",
    "\n",
    "# Re-order columns to have the order as in the book\n",
    "Xmat = Xmat[['Intercept',\n",
    " \"C(pop, Treatment('Pyrenees'))[T.Massif Central]\",\n",
    " \"C(pop, Treatment('Pyrenees'))[T.Jura]\",\n",
    " 'length',\n",
    " \"C(pop, Treatment('Pyrenees'))[T.Massif Central]:length\",\n",
    " \"C(pop, Treatment('Pyrenees'))[T.Jura]:length\"]].to_numpy()\n",
    "beta_vec = [-250, 150, 200, 6, -3, -4]\n",
    "\n",
    "lin_pred = Xmat @ beta_vec\n",
    "eps = st.norm.rvs(0, 10, size = n)\n",
    "mass = lin_pred + eps\n",
    "data = pd.DataFrame({'mass': mass, 'pop': pd.Series(pop, dtype = 'category'), 'length': length})"
   ]
  },
  {
   "cell_type": "code",
   "execution_count": 3,
   "id": "957d1e3a-2756-490b-b183-db577b73961c",
   "metadata": {},
   "outputs": [
    {
     "data": {
      "image/png": "[encoded data removed]",
      "text/plain": [
       "<Figure size 576x432 with 1 Axes>"
      ]
     },
     "metadata": {
      "needs_background": "light"
     },
     "output_type": "display_data"
    }
   ],
   "source": [
    "plt.figure(figsize = (8, 6))\n",
    "plt.hist(mass, bins = 7, color= 'gray', edgecolor='black', alpha = 0.5);"
   ]
  },
  {
   "cell_type": "code",
   "execution_count": 4,
   "id": "4d91d3d5-b15c-4489-be0e-14d324c0a941",
   "metadata": {},
   "outputs": [
    {
     "data": {
      "image/png": "[encoded data removed]",
      "text/plain": [
       "<Figure size 576x432 with 1 Axes>"
      ]
     },
     "metadata": {
      "needs_background": "light"
     },
     "output_type": "display_data"
    }
   ],
   "source": [
    "plt.figure(figsize = (8, 6))\n",
    "colors = {\"Pyrenees\": 'red', \"Massif Central\": 'green', \"Jura\": 'royalblue'}\n",
    "plt.scatter(data['length'], data['mass'], marker='o', s=30, linewidths=1, c=data['pop'].map(colors))\n",
    "plt.xlabel('Body length (cm)', fontsize = 10, labelpad = 10)\n",
    "plt.ylabel('Body mass (cm)', fontsize = 10, labelpad = 10)\n",
    "handles = [Line2D([0], [0], marker='o', color='w', markerfacecolor=v, label=k, markersize=8) for k, v in colors.items()]\n",
    "plt.legend(title='Population', handles=handles, loc='lower right');"
   ]
  },
  {
   "cell_type": "markdown",
   "id": "fbb2af02-7ead-4e95-8327-1576ae0dac42",
   "metadata": {},
   "source": [
    "### 11.3 Analysis using MLE wit *statsmodels*"
   ]
  },
  {
   "cell_type": "code",
   "execution_count": 5,
   "id": "af507356-33e7-4b28-9bfe-9709a1f3ec89",
   "metadata": {},
   "outputs": [],
   "source": [
    "from statsmodels.formula.api import ols\n",
    "import statsmodels.formula.api as smf"
   ]
  },
  {
   "cell_type": "code",
   "execution_count": 6,
   "id": "1444d166-f321-4fc5-98db-3ded21754f7d",
   "metadata": {},
   "outputs": [],
   "source": [
    "data['length_scaled'] = (data['length'] - data['length'].mean()) / data['length'].std()"
   ]
  },
  {
   "cell_type": "code",
   "execution_count": 7,
   "id": "94520542-ac73-47a2-9263-dad4b6ee11c5",
   "metadata": {},
   "outputs": [
    {
     "name": "stdout",
     "output_type": "stream",
     "text": [
      "Intercept                                                        105.855930\n",
      "C(pop, Treatment('Pyrenees'))[T.Jura]                            -40.602982\n",
      "C(pop, Treatment('Pyrenees'))[T.Massif Central]                  -29.807965\n",
      "length_scaled                                                     37.377690\n",
      "C(pop, Treatment('Pyrenees'))[T.Jura]:length_scaled              -28.654399\n",
      "C(pop, Treatment('Pyrenees'))[T.Massif Central]:length_scaled    -17.951247\n",
      "dtype: float64\n"
     ]
    }
   ],
   "source": [
    "mod = ols(formula = \"mass ~ C(pop, Treatment('Pyrenees'))*length_scaled\", data=data)\n",
    "res = mod.fit()\n",
    "print(res.params)"
   ]
  },
  {
   "cell_type": "markdown",
   "id": "21ed1007-b23c-49e8-ace2-1d4ce63574dd",
   "metadata": {},
   "source": [
    "### 11.4 Analysis using PyMC3"
   ]
  },
  {
   "cell_type": "code",
   "execution_count": 8,
   "id": "9d80a77a-2d95-40ee-ba52-7e9299ea9d66",
   "metadata": {},
   "outputs": [],
   "source": [
    "idx = pd.factorize(pop)[0]\n",
    "groups = len(np.unique(idx))"
   ]
  },
  {
   "cell_type": "code",
   "execution_count": 9,
   "id": "83482d47-cfa1-4434-aaa7-f713eefbdfd6",
   "metadata": {},
   "outputs": [
    {
     "name": "stderr",
     "output_type": "stream",
     "text": [
      "Auto-assigning NUTS sampler...\n",
      "Initializing NUTS using jitter+adapt_diag...\n",
      "Multiprocess sampling (2 chains in 2 jobs)\n",
      "NUTS: [sigma, beta, alpha]\n"
     ]
    },
    {
     "data": {
      "text/html": [
       "\n",
       "    <div>\n",
       "        <style>\n",
       "            /* Turns off some styling */\n",
       "            progress {\n",
       "                /* gets rid of default border in Firefox and Opera. */\n",
       "                border: none;\n",
       "                /* Needs to be in here for Safari polyfill so background images work as expected. */\n",
       "                background-size: auto;\n",
       "            }\n",
       "            .progress-bar-interrupted, .progress-bar-interrupted::-webkit-progress-bar {\n",
       "                background: #F44336;\n",
       "            }\n",
       "        </style>\n",
       "      <progress value='12000' class='' max='12000' style='width:300px; height:20px; vertical-align: middle;'></progress>\n",
       "      100.00% [12000/12000 00:14<00:00 Sampling 2 chains, 0 divergences]\n",
       "    </div>\n",
       "    "
      ],
      "text/plain": [
       "<IPython.core.display.HTML object>"
      ]
     },
     "metadata": {},
     "output_type": "display_data"
    },
    {
     "name": "stderr",
     "output_type": "stream",
     "text": [
      "Sampling 2 chains for 1_000 tune and 5_000 draw iterations (2_000 + 10_000 draws total) took 29 seconds.\n"
     ]
    }
   ],
   "source": [
    "with pm.Model() as model_11_4:\n",
    "    \n",
    "    alpha = pm.Normal('alpha', 0, tau = 0.001, shape = groups)\n",
    "    beta = pm.Normal('beta', 0, tau = 0.001, shape = groups)\n",
    "    sigma = pm.Uniform('sigma', 0, 100)\n",
    "    mu = pm.Deterministic('mu', alpha[idx] + beta[idx] * data['length_scaled'])\n",
    "    mass_pred = pm.Normal('mass_pred', mu, sigma, observed = data['mass'])\n",
    "    # Define effects relative to baseline level\n",
    "    a_effe2 = pm.Deterministic('a_effect2', alpha[1] - alpha[0])           # Intercept Massif Central vs. Pyr.\n",
    "    a_effe3 = pm.Deterministic('a_effect3', alpha[2] - alpha[0])           # Intercept Jura vs. Pyr.\n",
    "    b_effe2 = pm.Deterministic('b_effect2', beta[1] - beta[0])             # Slope Massif Central vs. Pyr.\n",
    "    b_effe3 = pm.Deterministic('b_effect3', beta[2] - beta[0])             # Slope Jura vs. Pyr.\n",
    "    \n",
    "    # Custom tests\n",
    "    test1 = pm.Deterministic('test1', beta[2] - beta[1])             # Slope Jura vs. Massif Central\n",
    "    trace_11_4 = pm.sample(5000, return_inferencedata = True)"
   ]
  },
  {
   "cell_type": "code",
   "execution_count": 10,
   "id": "d027c667-8815-40e9-8fba-66a3483b5af7",
   "metadata": {
    "tags": []
   },
   "outputs": [
    {
     "data": {
      "text/html": [
       "<div>\n",
       "<style scoped>\n",
       "    .dataframe tbody tr th:only-of-type {\n",
       "        vertical-align: middle;\n",
       "    }\n",
       "\n",
       "    .dataframe tbody tr th {\n",
       "        vertical-align: top;\n",
       "    }\n",
       "\n",
       "    .dataframe thead th {\n",
       "        text-align: right;\n",
       "    }\n",
       "</style>\n",
       "<table border=\"1\" class=\"dataframe\">\n",
       "  <thead>\n",
       "    <tr style=\"text-align: right;\">\n",
       "      <th></th>\n",
       "      <th>mean</th>\n",
       "      <th>sd</th>\n",
       "      <th>hdi_3%</th>\n",
       "      <th>hdi_97%</th>\n",
       "      <th>mcse_mean</th>\n",
       "      <th>mcse_sd</th>\n",
       "      <th>ess_bulk</th>\n",
       "      <th>ess_tail</th>\n",
       "      <th>r_hat</th>\n",
       "    </tr>\n",
       "  </thead>\n",
       "  <tbody>\n",
       "    <tr>\n",
       "      <th>alpha[0]</th>\n",
       "      <td>104.932</td>\n",
       "      <td>3.139</td>\n",
       "      <td>99.053</td>\n",
       "      <td>110.834</td>\n",
       "      <td>0.029</td>\n",
       "      <td>0.021</td>\n",
       "      <td>11381.0</td>\n",
       "      <td>7479.0</td>\n",
       "      <td>1.0</td>\n",
       "    </tr>\n",
       "    <tr>\n",
       "      <th>alpha[1]</th>\n",
       "      <td>75.335</td>\n",
       "      <td>3.009</td>\n",
       "      <td>69.888</td>\n",
       "      <td>81.055</td>\n",
       "      <td>0.029</td>\n",
       "      <td>0.021</td>\n",
       "      <td>10737.0</td>\n",
       "      <td>7154.0</td>\n",
       "      <td>1.0</td>\n",
       "    </tr>\n",
       "    <tr>\n",
       "      <th>alpha[2]</th>\n",
       "      <td>64.620</td>\n",
       "      <td>3.101</td>\n",
       "      <td>58.513</td>\n",
       "      <td>70.150</td>\n",
       "      <td>0.029</td>\n",
       "      <td>0.021</td>\n",
       "      <td>11166.0</td>\n",
       "      <td>7626.0</td>\n",
       "      <td>1.0</td>\n",
       "    </tr>\n",
       "    <tr>\n",
       "      <th>beta[0]</th>\n",
       "      <td>37.236</td>\n",
       "      <td>2.931</td>\n",
       "      <td>31.557</td>\n",
       "      <td>42.637</td>\n",
       "      <td>0.029</td>\n",
       "      <td>0.020</td>\n",
       "      <td>10528.0</td>\n",
       "      <td>7222.0</td>\n",
       "      <td>1.0</td>\n",
       "    </tr>\n",
       "    <tr>\n",
       "      <th>beta[1]</th>\n",
       "      <td>19.205</td>\n",
       "      <td>3.289</td>\n",
       "      <td>12.975</td>\n",
       "      <td>25.267</td>\n",
       "      <td>0.028</td>\n",
       "      <td>0.020</td>\n",
       "      <td>13457.0</td>\n",
       "      <td>7816.0</td>\n",
       "      <td>1.0</td>\n",
       "    </tr>\n",
       "    <tr>\n",
       "      <th>beta[2]</th>\n",
       "      <td>8.538</td>\n",
       "      <td>3.282</td>\n",
       "      <td>2.240</td>\n",
       "      <td>14.626</td>\n",
       "      <td>0.031</td>\n",
       "      <td>0.022</td>\n",
       "      <td>11403.0</td>\n",
       "      <td>7946.0</td>\n",
       "      <td>1.0</td>\n",
       "    </tr>\n",
       "    <tr>\n",
       "      <th>sigma</th>\n",
       "      <td>9.522</td>\n",
       "      <td>1.499</td>\n",
       "      <td>7.027</td>\n",
       "      <td>12.467</td>\n",
       "      <td>0.017</td>\n",
       "      <td>0.012</td>\n",
       "      <td>7774.0</td>\n",
       "      <td>6891.0</td>\n",
       "      <td>1.0</td>\n",
       "    </tr>\n",
       "    <tr>\n",
       "      <th>a_effect2</th>\n",
       "      <td>-29.597</td>\n",
       "      <td>4.278</td>\n",
       "      <td>-38.029</td>\n",
       "      <td>-21.856</td>\n",
       "      <td>0.041</td>\n",
       "      <td>0.029</td>\n",
       "      <td>10918.0</td>\n",
       "      <td>7350.0</td>\n",
       "      <td>1.0</td>\n",
       "    </tr>\n",
       "    <tr>\n",
       "      <th>a_effect3</th>\n",
       "      <td>-40.312</td>\n",
       "      <td>4.363</td>\n",
       "      <td>-48.449</td>\n",
       "      <td>-32.015</td>\n",
       "      <td>0.042</td>\n",
       "      <td>0.030</td>\n",
       "      <td>10945.0</td>\n",
       "      <td>7604.0</td>\n",
       "      <td>1.0</td>\n",
       "    </tr>\n",
       "    <tr>\n",
       "      <th>b_effect2</th>\n",
       "      <td>-18.031</td>\n",
       "      <td>4.475</td>\n",
       "      <td>-26.526</td>\n",
       "      <td>-9.626</td>\n",
       "      <td>0.042</td>\n",
       "      <td>0.030</td>\n",
       "      <td>11585.0</td>\n",
       "      <td>6980.0</td>\n",
       "      <td>1.0</td>\n",
       "    </tr>\n",
       "    <tr>\n",
       "      <th>b_effect3</th>\n",
       "      <td>-28.699</td>\n",
       "      <td>4.475</td>\n",
       "      <td>-37.209</td>\n",
       "      <td>-20.421</td>\n",
       "      <td>0.042</td>\n",
       "      <td>0.030</td>\n",
       "      <td>11401.0</td>\n",
       "      <td>7634.0</td>\n",
       "      <td>1.0</td>\n",
       "    </tr>\n",
       "    <tr>\n",
       "      <th>test1</th>\n",
       "      <td>-10.668</td>\n",
       "      <td>4.666</td>\n",
       "      <td>-19.311</td>\n",
       "      <td>-1.703</td>\n",
       "      <td>0.042</td>\n",
       "      <td>0.032</td>\n",
       "      <td>12573.0</td>\n",
       "      <td>7723.0</td>\n",
       "      <td>1.0</td>\n",
       "    </tr>\n",
       "  </tbody>\n",
       "</table>\n",
       "</div>"
      ],
      "text/plain": [
       "              mean     sd  hdi_3%  hdi_97%  mcse_mean  mcse_sd  ess_bulk  \\\n",
       "alpha[0]   104.932  3.139  99.053  110.834      0.029    0.021   11381.0   \n",
       "alpha[1]    75.335  3.009  69.888   81.055      0.029    0.021   10737.0   \n",
       "alpha[2]    64.620  3.101  58.513   70.150      0.029    0.021   11166.0   \n",
       "beta[0]     37.236  2.931  31.557   42.637      0.029    0.020   10528.0   \n",
       "beta[1]     19.205  3.289  12.975   25.267      0.028    0.020   13457.0   \n",
       "beta[2]      8.538  3.282   2.240   14.626      0.031    0.022   11403.0   \n",
       "sigma        9.522  1.499   7.027   12.467      0.017    0.012    7774.0   \n",
       "a_effect2  -29.597  4.278 -38.029  -21.856      0.041    0.029   10918.0   \n",
       "a_effect3  -40.312  4.363 -48.449  -32.015      0.042    0.030   10945.0   \n",
       "b_effect2  -18.031  4.475 -26.526   -9.626      0.042    0.030   11585.0   \n",
       "b_effect3  -28.699  4.475 -37.209  -20.421      0.042    0.030   11401.0   \n",
       "test1      -10.668  4.666 -19.311   -1.703      0.042    0.032   12573.0   \n",
       "\n",
       "           ess_tail  r_hat  \n",
       "alpha[0]     7479.0    1.0  \n",
       "alpha[1]     7154.0    1.0  \n",
       "alpha[2]     7626.0    1.0  \n",
       "beta[0]      7222.0    1.0  \n",
       "beta[1]      7816.0    1.0  \n",
       "beta[2]      7946.0    1.0  \n",
       "sigma        6891.0    1.0  \n",
       "a_effect2    7350.0    1.0  \n",
       "a_effect3    7604.0    1.0  \n",
       "b_effect2    6980.0    1.0  \n",
       "b_effect3    7634.0    1.0  \n",
       "test1        7723.0    1.0  "
      ]
     },
     "execution_count": 10,
     "metadata": {},
     "output_type": "execute_result"
    }
   ],
   "source": [
    "az.summary(trace_11_4, var_names = ['~mu'])"
   ]
  }
 ],
 "metadata": {
  "kernelspec": {
   "display_name": "Python 3 (ipykernel)",
   "language": "python",
   "name": "python3"
  },
  "language_info": {
   "codemirror_mode": {
    "name": "ipython",
    "version": 3
   },
   "file_extension": ".py",
   "mimetype": "text/x-python",
   "name": "python",
   "nbconvert_exporter": "python",
   "pygments_lexer": "ipython3",
   "version": "3.9.1"
  }
 },
 "nbformat": 4,
 "nbformat_minor": 5
}
