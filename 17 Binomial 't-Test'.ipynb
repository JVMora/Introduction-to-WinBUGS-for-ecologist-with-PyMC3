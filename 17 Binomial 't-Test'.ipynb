{
 "cells": [
  {
   "cell_type": "code",
   "execution_count": 1,
   "id": "e0adcec3-9289-4340-9b9c-e6fac28537da",
   "metadata": {},
   "outputs": [
    {
     "name": "stderr",
     "output_type": "stream",
     "text": [
      "WARNING (theano.tensor.blas): Using NumPy C-API based implementation for BLAS functions.\n"
     ]
    }
   ],
   "source": [
    "import numpy as np\n",
    "import pandas as pd\n",
    "import pymc3 as pm\n",
    "import matplotlib.pyplot as plt\n",
    "import arviz as az\n",
    "import warnings\n",
    "warnings.filterwarnings(\"ignore\")\n",
    "import scipy.stats as st"
   ]
  },
  {
   "cell_type": "markdown",
   "id": "cfe84b3d-b898-43ad-a4be-0b29c26dc6ef",
   "metadata": {},
   "source": [
    "### 17.2 Data generation"
   ]
  },
  {
   "cell_type": "code",
   "execution_count": 2,
   "id": "7d0ca91a-ce27-4f14-8ecb-6bc2db48f096",
   "metadata": {},
   "outputs": [],
   "source": [
    "n = 50\n",
    "p_cr = 13 / 50\n",
    "p_ch = 29 / 50\n",
    "C_cr = st.binom.rvs(n = 50, p = p_cr, size = 1)\n",
    "C_ch = st.binom.rvs(n = 50, p = p_ch, size = 1)\n",
    "#C_cr = st.bernoulli.rvs(p = p_cr, size = 50).sum()\n",
    "#C_ch = st.bernoulli.rvs(p = p_ch, size = 50).sum()\n",
    "C = np.array([C_cr, C_ch]).reshape(-1)\n",
    "species = [\"Cross-leaved gentian\",\"Chiltern gentian\"]\n",
    "idx = pd.factorize(species)[0]"
   ]
  },
  {
   "cell_type": "markdown",
   "id": "644be6b9-055e-4203-876e-d5b7bc9d8d13",
   "metadata": {},
   "source": [
    "### 17.4 Analysis using PyMC3"
   ]
  },
  {
   "cell_type": "code",
   "execution_count": 3,
   "id": "fa95d088-6d8c-42ab-9499-254775bf16bd",
   "metadata": {},
   "outputs": [
    {
     "name": "stderr",
     "output_type": "stream",
     "text": [
      "Auto-assigning NUTS sampler...\n",
      "Initializing NUTS using jitter+adapt_diag...\n",
      "Multiprocess sampling (2 chains in 2 jobs)\n",
      "NUTS: [beta, alpha]\n"
     ]
    },
    {
     "data": {
      "text/html": [
       "\n",
       "    <div>\n",
       "        <style>\n",
       "            /* Turns off some styling */\n",
       "            progress {\n",
       "                /* gets rid of default border in Firefox and Opera. */\n",
       "                border: none;\n",
       "                /* Needs to be in here for Safari polyfill so background images work as expected. */\n",
       "                background-size: auto;\n",
       "            }\n",
       "            .progress-bar-interrupted, .progress-bar-interrupted::-webkit-progress-bar {\n",
       "                background: #F44336;\n",
       "            }\n",
       "        </style>\n",
       "      <progress value='6000' class='' max='6000' style='width:300px; height:20px; vertical-align: middle;'></progress>\n",
       "      100.00% [6000/6000 00:07<00:00 Sampling 2 chains, 0 divergences]\n",
       "    </div>\n",
       "    "
      ],
      "text/plain": [
       "<IPython.core.display.HTML object>"
      ]
     },
     "metadata": {},
     "output_type": "display_data"
    },
    {
     "name": "stderr",
     "output_type": "stream",
     "text": [
      "Sampling 2 chains for 2_000 tune and 1_000 draw iterations (4_000 + 2_000 draws total) took 23 seconds.\n"
     ]
    }
   ],
   "source": [
    "with pm.Model() as model_17_4:\n",
    "    \n",
    "    alpha = pm.Normal('alpha', 0, tau = 0.01)\n",
    "    beta = pm.Normal('beta', 0, tau = 0.01)\n",
    "    p = pm.Deterministic('p', pm.math.invlogit(alpha + beta * idx))\n",
    "    C_pred = pm.Binomial('C_pred', n = 50, p = p, observed = C)\n",
    "    \n",
    "    # Derived quantities\n",
    "    Occ_cross = pm.Deterministic('Occ_cross', pm.math.exp(alpha) / (1 + pm.math.exp(alpha)))\n",
    "    Occ_chiltern = pm.Deterministic('Occ_chiltern', pm.math.exp(alpha + beta) / (1 + pm.math.exp(alpha + beta)))\n",
    "    Occ_Diff = pm.Deterministic('Occ_Diff', Occ_chiltern - Occ_cross) \n",
    "    \n",
    "    trace_17_4 = pm.sample(tune=2000, return_inferencedata=True)"
   ]
  },
  {
   "cell_type": "code",
   "execution_count": 4,
   "id": "5c282bcb-d1df-438d-8a09-75be5ceff2e8",
   "metadata": {},
   "outputs": [
    {
     "data": {
      "text/html": [
       "<div>\n",
       "<style scoped>\n",
       "    .dataframe tbody tr th:only-of-type {\n",
       "        vertical-align: middle;\n",
       "    }\n",
       "\n",
       "    .dataframe tbody tr th {\n",
       "        vertical-align: top;\n",
       "    }\n",
       "\n",
       "    .dataframe thead th {\n",
       "        text-align: right;\n",
       "    }\n",
       "</style>\n",
       "<table border=\"1\" class=\"dataframe\">\n",
       "  <thead>\n",
       "    <tr style=\"text-align: right;\">\n",
       "      <th></th>\n",
       "      <th>mean</th>\n",
       "      <th>sd</th>\n",
       "      <th>hdi_3%</th>\n",
       "      <th>hdi_97%</th>\n",
       "      <th>mcse_mean</th>\n",
       "      <th>mcse_sd</th>\n",
       "      <th>ess_bulk</th>\n",
       "      <th>ess_tail</th>\n",
       "      <th>r_hat</th>\n",
       "    </tr>\n",
       "  </thead>\n",
       "  <tbody>\n",
       "    <tr>\n",
       "      <th>alpha</th>\n",
       "      <td>-1.314</td>\n",
       "      <td>0.370</td>\n",
       "      <td>-1.972</td>\n",
       "      <td>-0.626</td>\n",
       "      <td>0.015</td>\n",
       "      <td>0.011</td>\n",
       "      <td>580.0</td>\n",
       "      <td>822.0</td>\n",
       "      <td>1.0</td>\n",
       "    </tr>\n",
       "    <tr>\n",
       "      <th>beta</th>\n",
       "      <td>1.238</td>\n",
       "      <td>0.482</td>\n",
       "      <td>0.276</td>\n",
       "      <td>2.115</td>\n",
       "      <td>0.019</td>\n",
       "      <td>0.014</td>\n",
       "      <td>628.0</td>\n",
       "      <td>840.0</td>\n",
       "      <td>1.0</td>\n",
       "    </tr>\n",
       "    <tr>\n",
       "      <th>Occ_cross</th>\n",
       "      <td>0.218</td>\n",
       "      <td>0.061</td>\n",
       "      <td>0.115</td>\n",
       "      <td>0.336</td>\n",
       "      <td>0.003</td>\n",
       "      <td>0.002</td>\n",
       "      <td>580.0</td>\n",
       "      <td>822.0</td>\n",
       "      <td>1.0</td>\n",
       "    </tr>\n",
       "    <tr>\n",
       "      <th>Occ_chiltern</th>\n",
       "      <td>0.481</td>\n",
       "      <td>0.072</td>\n",
       "      <td>0.337</td>\n",
       "      <td>0.612</td>\n",
       "      <td>0.002</td>\n",
       "      <td>0.001</td>\n",
       "      <td>1557.0</td>\n",
       "      <td>1573.0</td>\n",
       "      <td>1.0</td>\n",
       "    </tr>\n",
       "    <tr>\n",
       "      <th>Occ_Diff</th>\n",
       "      <td>0.263</td>\n",
       "      <td>0.096</td>\n",
       "      <td>0.065</td>\n",
       "      <td>0.430</td>\n",
       "      <td>0.004</td>\n",
       "      <td>0.003</td>\n",
       "      <td>720.0</td>\n",
       "      <td>973.0</td>\n",
       "      <td>1.0</td>\n",
       "    </tr>\n",
       "  </tbody>\n",
       "</table>\n",
       "</div>"
      ],
      "text/plain": [
       "               mean     sd  hdi_3%  hdi_97%  mcse_mean  mcse_sd  ess_bulk  \\\n",
       "alpha        -1.314  0.370  -1.972   -0.626      0.015    0.011     580.0   \n",
       "beta          1.238  0.482   0.276    2.115      0.019    0.014     628.0   \n",
       "Occ_cross     0.218  0.061   0.115    0.336      0.003    0.002     580.0   \n",
       "Occ_chiltern  0.481  0.072   0.337    0.612      0.002    0.001    1557.0   \n",
       "Occ_Diff      0.263  0.096   0.065    0.430      0.004    0.003     720.0   \n",
       "\n",
       "              ess_tail  r_hat  \n",
       "alpha            822.0    1.0  \n",
       "beta             840.0    1.0  \n",
       "Occ_cross        822.0    1.0  \n",
       "Occ_chiltern    1573.0    1.0  \n",
       "Occ_Diff         973.0    1.0  "
      ]
     },
     "execution_count": 4,
     "metadata": {},
     "output_type": "execute_result"
    }
   ],
   "source": [
    "az.summary(trace_17_4, var_names = ['~p'])"
   ]
  },
  {
   "cell_type": "code",
   "execution_count": 5,
   "id": "15061b0a-52c7-491a-bad3-d7642d670180",
   "metadata": {},
   "outputs": [],
   "source": [
    "Occ_cross = trace_17_4.posterior.stack(samples = {'chain', 'draw'})['Occ_cross'].values.mean()\n",
    "Occ_chiltern = trace_17_4.posterior.stack(samples = {'chain', 'draw'})['Occ_chiltern'].values.mean()"
   ]
  },
  {
   "cell_type": "code",
   "execution_count": 6,
   "id": "708c479e-2d4b-4def-8908-d9182f4ada4c",
   "metadata": {},
   "outputs": [
    {
     "data": {
      "image/png": "[encoded data removed]",
      "text/plain": [
       "<Figure size 1490.4x331.2 with 3 Axes>"
      ]
     },
     "metadata": {
      "needs_background": "light"
     },
     "output_type": "display_data"
    }
   ],
   "source": [
    "az.plot_posterior(trace_17_4, \n",
    "                  var_names = ['~p', '~alpha', '~beta'], \n",
    "                  ref_val = [Occ_cross, Occ_chiltern, 0],\n",
    "                  ref_val_color = 'black',\n",
    "                  kind = 'hist',\n",
    "                  textsize = 11);"
   ]
  },
  {
   "cell_type": "markdown",
   "id": "ae23135d-5e3e-4532-b984-27283f5c4f4a",
   "metadata": {},
   "source": [
    "#### EXERCISES"
   ]
  },
  {
   "cell_type": "markdown",
   "id": "e9b79341-68e9-4695-a086-91c819c60353",
   "metadata": {},
   "source": [
    "**1.** *Binomial and Bernoulli*"
   ]
  },
  {
   "cell_type": "code",
   "execution_count": 7,
   "id": "ac724659-3dfe-4697-8a39-2a66cb738368",
   "metadata": {},
   "outputs": [],
   "source": [
    "n = 50\n",
    "p_cr = 13 / 50\n",
    "p_ch = 29 / 50\n",
    "C_cr = st.bernoulli.rvs(p = p_cr, size = 50)\n",
    "C_ch = st.bernoulli.rvs(p = p_ch, size = 50)\n",
    "C = np.concatenate([C_cr, C_ch])\n",
    "species = np.repeat([\"Cross-leaved gentian\",\"Chiltern gentian\"], n)\n",
    "idx = pd.factorize(species)[0]"
   ]
  },
  {
   "cell_type": "code",
   "execution_count": 8,
   "id": "68eda623-d681-49f3-8465-096f83df931f",
   "metadata": {},
   "outputs": [
    {
     "name": "stderr",
     "output_type": "stream",
     "text": [
      "Auto-assigning NUTS sampler...\n",
      "Initializing NUTS using jitter+adapt_diag...\n",
      "Multiprocess sampling (2 chains in 2 jobs)\n",
      "NUTS: [beta, alpha]\n"
     ]
    },
    {
     "data": {
      "text/html": [
       "\n",
       "    <div>\n",
       "        <style>\n",
       "            /* Turns off some styling */\n",
       "            progress {\n",
       "                /* gets rid of default border in Firefox and Opera. */\n",
       "                border: none;\n",
       "                /* Needs to be in here for Safari polyfill so background images work as expected. */\n",
       "                background-size: auto;\n",
       "            }\n",
       "            .progress-bar-interrupted, .progress-bar-interrupted::-webkit-progress-bar {\n",
       "                background: #F44336;\n",
       "            }\n",
       "        </style>\n",
       "      <progress value='6000' class='' max='6000' style='width:300px; height:20px; vertical-align: middle;'></progress>\n",
       "      100.00% [6000/6000 00:08<00:00 Sampling 2 chains, 0 divergences]\n",
       "    </div>\n",
       "    "
      ],
      "text/plain": [
       "<IPython.core.display.HTML object>"
      ]
     },
     "metadata": {},
     "output_type": "display_data"
    },
    {
     "name": "stderr",
     "output_type": "stream",
     "text": [
      "Sampling 2 chains for 2_000 tune and 1_000 draw iterations (4_000 + 2_000 draws total) took 23 seconds.\n"
     ]
    }
   ],
   "source": [
    "with pm.Model() as model_17_4bernoulli:\n",
    "    \n",
    "    alpha = pm.Normal('alpha', 0, tau = 0.01)\n",
    "    beta = pm.Normal('beta', 0, tau = 0.01)\n",
    "    p = pm.Deterministic('p', pm.math.invlogit(alpha + beta * idx))\n",
    "    C_pred = pm.Bernoulli('C_pred', p, observed = C)\n",
    "    \n",
    "    # Derived quantities\n",
    "    Occ_cross = pm.Deterministic('Occ_cross', pm.math.exp(alpha) / (1 + pm.math.exp(alpha)))\n",
    "    Occ_chiltern = pm.Deterministic('Occ_chiltern', pm.math.exp(alpha + beta) / (1 + pm.math.exp(alpha + beta)))\n",
    "    Occ_Diff = pm.Deterministic('Occ_Diff', Occ_chiltern - Occ_cross) # Test quantity\n",
    "    \n",
    "    trace_17_4bernoulli = pm.sample(tune=2000, return_inferencedata=True)"
   ]
  },
  {
   "cell_type": "code",
   "execution_count": 9,
   "id": "68c3e503-7f00-48e3-b814-abb56855bdfd",
   "metadata": {},
   "outputs": [
    {
     "data": {
      "text/html": [
       "<div>\n",
       "<style scoped>\n",
       "    .dataframe tbody tr th:only-of-type {\n",
       "        vertical-align: middle;\n",
       "    }\n",
       "\n",
       "    .dataframe tbody tr th {\n",
       "        vertical-align: top;\n",
       "    }\n",
       "\n",
       "    .dataframe thead th {\n",
       "        text-align: right;\n",
       "    }\n",
       "</style>\n",
       "<table border=\"1\" class=\"dataframe\">\n",
       "  <thead>\n",
       "    <tr style=\"text-align: right;\">\n",
       "      <th></th>\n",
       "      <th>mean</th>\n",
       "      <th>sd</th>\n",
       "      <th>hdi_3%</th>\n",
       "      <th>hdi_97%</th>\n",
       "      <th>mcse_mean</th>\n",
       "      <th>mcse_sd</th>\n",
       "      <th>ess_bulk</th>\n",
       "      <th>ess_tail</th>\n",
       "      <th>r_hat</th>\n",
       "    </tr>\n",
       "  </thead>\n",
       "  <tbody>\n",
       "    <tr>\n",
       "      <th>alpha</th>\n",
       "      <td>-0.865</td>\n",
       "      <td>0.314</td>\n",
       "      <td>-1.420</td>\n",
       "      <td>-0.293</td>\n",
       "      <td>0.011</td>\n",
       "      <td>0.008</td>\n",
       "      <td>819.0</td>\n",
       "      <td>1049.0</td>\n",
       "      <td>1.0</td>\n",
       "    </tr>\n",
       "    <tr>\n",
       "      <th>beta</th>\n",
       "      <td>1.035</td>\n",
       "      <td>0.424</td>\n",
       "      <td>0.245</td>\n",
       "      <td>1.795</td>\n",
       "      <td>0.015</td>\n",
       "      <td>0.010</td>\n",
       "      <td>848.0</td>\n",
       "      <td>969.0</td>\n",
       "      <td>1.0</td>\n",
       "    </tr>\n",
       "    <tr>\n",
       "      <th>Occ_cross</th>\n",
       "      <td>0.300</td>\n",
       "      <td>0.065</td>\n",
       "      <td>0.189</td>\n",
       "      <td>0.420</td>\n",
       "      <td>0.002</td>\n",
       "      <td>0.002</td>\n",
       "      <td>819.0</td>\n",
       "      <td>1049.0</td>\n",
       "      <td>1.0</td>\n",
       "    </tr>\n",
       "    <tr>\n",
       "      <th>Occ_chiltern</th>\n",
       "      <td>0.542</td>\n",
       "      <td>0.069</td>\n",
       "      <td>0.416</td>\n",
       "      <td>0.672</td>\n",
       "      <td>0.002</td>\n",
       "      <td>0.001</td>\n",
       "      <td>1395.0</td>\n",
       "      <td>1451.0</td>\n",
       "      <td>1.0</td>\n",
       "    </tr>\n",
       "    <tr>\n",
       "      <th>Occ_Diff</th>\n",
       "      <td>0.241</td>\n",
       "      <td>0.095</td>\n",
       "      <td>0.065</td>\n",
       "      <td>0.412</td>\n",
       "      <td>0.003</td>\n",
       "      <td>0.002</td>\n",
       "      <td>880.0</td>\n",
       "      <td>969.0</td>\n",
       "      <td>1.0</td>\n",
       "    </tr>\n",
       "  </tbody>\n",
       "</table>\n",
       "</div>"
      ],
      "text/plain": [
       "               mean     sd  hdi_3%  hdi_97%  mcse_mean  mcse_sd  ess_bulk  \\\n",
       "alpha        -0.865  0.314  -1.420   -0.293      0.011    0.008     819.0   \n",
       "beta          1.035  0.424   0.245    1.795      0.015    0.010     848.0   \n",
       "Occ_cross     0.300  0.065   0.189    0.420      0.002    0.002     819.0   \n",
       "Occ_chiltern  0.542  0.069   0.416    0.672      0.002    0.001    1395.0   \n",
       "Occ_Diff      0.241  0.095   0.065    0.412      0.003    0.002     880.0   \n",
       "\n",
       "              ess_tail  r_hat  \n",
       "alpha           1049.0    1.0  \n",
       "beta             969.0    1.0  \n",
       "Occ_cross       1049.0    1.0  \n",
       "Occ_chiltern    1451.0    1.0  \n",
       "Occ_Diff         969.0    1.0  "
      ]
     },
     "execution_count": 9,
     "metadata": {},
     "output_type": "execute_result"
    }
   ],
   "source": [
    "az.summary(trace_17_4bernoulli, var_names = ['alpha', 'beta', 'Occ_cross', 'Occ_chiltern', 'Occ_Diff'])"
   ]
  },
  {
   "cell_type": "code",
   "execution_count": null,
   "id": "80c5d157-e965-4d58-9e13-2fd01f8a6e79",
   "metadata": {},
   "outputs": [],
   "source": []
  }
 ],
 "metadata": {
  "kernelspec": {
   "display_name": "Python 3 (ipykernel)",
   "language": "python",
   "name": "python3"
  },
  "language_info": {
   "codemirror_mode": {
    "name": "ipython",
    "version": 3
   },
   "file_extension": ".py",
   "mimetype": "text/x-python",
   "name": "python",
   "nbconvert_exporter": "python",
   "pygments_lexer": "ipython3",
   "version": "3.9.1"
  }
 },
 "nbformat": 4,
 "nbformat_minor": 5
}
